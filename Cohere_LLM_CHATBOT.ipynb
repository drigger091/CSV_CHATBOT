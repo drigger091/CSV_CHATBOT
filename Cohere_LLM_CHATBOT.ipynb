{
  "nbformat": 4,
  "nbformat_minor": 0,
  "metadata": {
    "colab": {
      "provenance": [],
      "authorship_tag": "ABX9TyOz6hMR3Hu2o/xJ9+hA42RT",
      "include_colab_link": true
    },
    "kernelspec": {
      "name": "python3",
      "display_name": "Python 3"
    },
    "language_info": {
      "name": "python"
    }
  },
  "cells": [
    {
      "cell_type": "markdown",
      "metadata": {
        "id": "view-in-github",
        "colab_type": "text"
      },
      "source": [
        "<a href=\"https://colab.research.google.com/github/drigger091/CSV_CHATBOT/blob/main/Cohere_LLM_CHATBOT.ipynb\" target=\"_parent\"><img src=\"https://colab.research.google.com/assets/colab-badge.svg\" alt=\"Open In Colab\"/></a>"
      ]
    },
    {
      "cell_type": "markdown",
      "source": [
        "We are using COHERE LLM CHATBOT to chat and do a QA on a provided text"
      ],
      "metadata": {
        "id": "NIxVLOOk6-nW"
      }
    },
    {
      "cell_type": "code",
      "source": [
        "  import cohere\n",
        "  import warnings\n",
        "  from annoy import AnnoyIndex\n",
        "  import numpy as np\n",
        "  import pandas as pd\n",
        ""
      ],
      "metadata": {
        "id": "o6Ghpp300d2d"
      },
      "execution_count": 19,
      "outputs": []
    },
    {
      "cell_type": "code",
      "source": [
        "text = \"\"\"\n",
        "\n",
        "India boasts a diverse coastline that stretches over 7,500 kilometers along the Arabian Sea, the Bay of Bengal, and the Indian Ocean,\n",
        "offering a plethora of stunning beaches that cater to every taste and preference.\n",
        "From secluded coves and pristine stretches of sand to vibrant beach towns bustling with\n",
        " life, India's beaches are a haven for travelers seeking sun, sea, and relaxation.\n",
        "\n",
        "One of the most iconic beach destinations in India is Goa, renowned for its\n",
        "golden sands, crystal-clear waters, and vibrant beach culture. From the lively\n",
        "shores of Baga and Calangute to the tranquil beaches of Palolem and Agonda,\n",
        "Goa offers a diverse array of beach experiences, whether you're looking to soak up\n",
        "the sun, indulge in water sports, or party until dawn at one of its famous beach\n",
        "shacks and nightclubs.\n",
        "\n",
        "Further south along the western coast lies the picturesque state of Kerala,\n",
        "home to some of India's most scenic beaches. The beaches of Kovalam, Varkala,\n",
        "and Marari are renowned for their natural beauty, with palm-fringed shores,\n",
        "gentle waves, and breathtaking sunsets that attract visitors from around the world.\n",
        "Kerala's beaches also offer opportunities for cultural exploration, with nearby\n",
        "attractions such as historic lighthouses, traditional fishing villages, and\n",
        "Ayurvedic spas.\n",
        "On the eastern coast, the state of Tamil Nadu boasts a wealth of\n",
        "stunning beaches that cater to both leisure travelers and pilgrims alike.\n",
        "Marina Beach in Chennai, one of the longest urban beaches in the world, is a\n",
        "popular spot for locals and tourists to unwind and enjoy recreational activities such as kite flying and beach volleyball. Further south, the beach towns of Mahabalipuram and Pondicherry offer a mix of historical landmarks, coastal charm, and water sports, making them ideal destinations for a beach getaway with a cultural twist.\n",
        "\n",
        "In the Andaman and Nicobar Islands, located in the Bay of Bengal,\n",
        " pristine beaches await those seeking a secluded tropical paradise.\n",
        " Radhanagar Beach on Havelock Island is consistently ranked among the\n",
        " best beaches in Asia, with its powdery white sands, azure waters, and\n",
        " thriving coral reefs ideal for snorkeling and scuba diving. Other highlights\n",
        " include Elephant Beach, known for its vibrant marine life, and Neil Island,\n",
        " where travelers can relax amidst coconut groves and turquoise lagoons.\n",
        "\n",
        "In addition to these well-known destinations, India is dotted with\n",
        "countless hidden gems waiting to be discovered along its coastline.\n",
        " Whether you're seeking adventure, relaxation, or simply a moment of\n",
        " tranquility by the sea, India's beaches offer something for everyone,\n",
        " making them an irresistible destination for beach lovers\n",
        " and nature enthusiasts alike.\"\"\""
      ],
      "metadata": {
        "id": "OPBXstR44z8u"
      },
      "execution_count": 20,
      "outputs": []
    },
    {
      "cell_type": "code",
      "source": [
        "# prepocessing the text\n",
        "try:\n",
        "    texts = text.split(\"\\n\\n\")\n",
        "    texts = np.array([t.strip(r'\\n') for t in texts if t])\n",
        "except:\n",
        "    print(\"Error preprocessing the text\")\n",
        "    exit()"
      ],
      "metadata": {
        "id": "gWs6T3F78biK"
      },
      "execution_count": 21,
      "outputs": []
    },
    {
      "cell_type": "code",
      "source": [
        "\n",
        "\n",
        "# cohere API connection\n",
        "\n",
        "try:\n",
        "    co = cohere.Client(\"\")\n",
        "\n",
        "except Exception as e:\n",
        "    print(f\"Error connecting to cohere:{e}\")\n",
        "    exit\n",
        "\n"
      ],
      "metadata": {
        "id": "kJVWTbzC83Oo"
      },
      "execution_count": 22,
      "outputs": []
    },
    {
      "cell_type": "code",
      "source": [
        "# embedding them\n",
        "try:\n",
        "    response =co.embed(texts=texts.tolist()).embeddings\n",
        "    embeds = np.array(response)\n",
        "except Exception as e:\n",
        "    print(f\"Error getting embeddings from Cohere:{e}\")\n",
        "    exit()"
      ],
      "metadata": {
        "id": "rWYjsMPf9Gxg"
      },
      "execution_count": 23,
      "outputs": []
    },
    {
      "cell_type": "code",
      "source": [
        "# Create a search index and pasing the size of embedding\n",
        "\n",
        "search_index = AnnoyIndex(embeds.shape[1],'angular')\n",
        "# adding vectors to search index\n",
        "for i in range(len(embeds)):\n",
        "  search_index.add_item(i,embeds[i])\n",
        "\n",
        "search_index.build(10)\n",
        "search_index.save(\"test.ann\")"
      ],
      "metadata": {
        "colab": {
          "base_uri": "https://localhost:8080/",
          "height": 0
        },
        "id": "ezAgxUPv-anC",
        "outputId": "81b316c2-f4cb-4ebf-f6ea-550e086607e2"
      },
      "execution_count": 24,
      "outputs": [
        {
          "output_type": "execute_result",
          "data": {
            "text/plain": [
              "True"
            ]
          },
          "metadata": {},
          "execution_count": 24
        }
      ]
    },
    {
      "cell_type": "code",
      "source": [
        "def search_text(query):\n",
        "  try:\n",
        "    query_embed =co.embed(texts=[query]).embeddings\n",
        "    similar_items_ids = search_index.get_nns_by_vector(query_embed[0],\n",
        "                                                       10,\n",
        "                                                       include_distances=True)\n",
        "    search_results = texts[similar_items_ids[0]]\n",
        "    return search_results\n",
        "  except Exception as e:\n",
        "    print(f\"Error during Search:{e}\")\n"
      ],
      "metadata": {
        "id": "KCQNrR9W_a5G"
      },
      "execution_count": 25,
      "outputs": []
    },
    {
      "cell_type": "code",
      "source": [
        "# creating the LLM chatbot\n",
        "def ask_LLM(Question,num_generations =1):\n",
        "        try:\n",
        "            results = search_text(Question)\n",
        "            context = results[0]\n",
        "            prompt = f\"\"\"\n",
        "More information about India beaches at India.com {context}\n",
        "Question: {Question}\n",
        "Extract answer from the given text if the text doesnt contain the answer reply the answer is not available\"\"\"\n",
        "\n",
        "            prediction = co.generate(prompt= prompt,\n",
        "                                     max_tokens = 70,\n",
        "                                     model =\"command-nightly\",temperature = 0.4,\n",
        "                                     num_generations = num_generations)\n",
        "            return prediction.generations\n",
        "        except Exception as e:\n",
        "            print(f\"Error occured during LLM call: {e}\")\n",
        "            return []\n",
        "\n",
        ""
      ],
      "metadata": {
        "id": "Ml8rUF9cVv1e"
      },
      "execution_count": 30,
      "outputs": []
    },
    {
      "cell_type": "markdown",
      "source": [
        "# Trying the chatbot demo"
      ],
      "metadata": {
        "id": "XWR92olyWvX7"
      }
    },
    {
      "cell_type": "code",
      "source": [
        "\n",
        "Q = input(\"Enter your question:\")\n",
        "answer_text = ask_LLM(Q)[0].text\n",
        "print(answer_text)\n"
      ],
      "metadata": {
        "colab": {
          "base_uri": "https://localhost:8080/",
          "height": 0
        },
        "id": "GrR3W-VrWeId",
        "outputId": "1ecc86eb-fbca-4673-ebfb-a78578bd43e8"
      },
      "execution_count": 37,
      "outputs": [
        {
          "output_type": "stream",
          "name": "stdout",
          "text": [
            "Enter your question:Coastline length?\n",
            "7,500 kilometers\n"
          ]
        }
      ]
    },
    {
      "cell_type": "code",
      "source": [
        "\n",
        "Q = input(\"Enter your question:\")\n",
        "answer_text = ask_LLM(Q)[0].text\n",
        "print(answer_text)\n"
      ],
      "metadata": {
        "colab": {
          "base_uri": "https://localhost:8080/",
          "height": 0
        },
        "id": "914zHWZbZavV",
        "outputId": "e1fba4e0-0798-49eb-bba4-ef5e29e48a6f"
      },
      "execution_count": 40,
      "outputs": [
        {
          "output_type": "stream",
          "name": "stdout",
          "text": [
            "Enter your question:What kinds of activities can visitors enjoy at Goa's beaches?\n",
            "Soak up the sun, indulge in water sports, or party at beach shacks and nightclubs.\n"
          ]
        }
      ]
    },
    {
      "cell_type": "code",
      "source": [],
      "metadata": {
        "id": "zKmex07qW7IG"
      },
      "execution_count": 27,
      "outputs": []
    },
    {
      "cell_type": "code",
      "source": [
        "\n",
        "Q = input(\"Enter your question:\")\n",
        "answer_text = ask_LLM(Q)[0].text\n",
        "print(answer_text)\n"
      ],
      "metadata": {
        "colab": {
          "base_uri": "https://localhost:8080/",
          "height": 0
        },
        "outputId": "7731caeb-a16e-4a79-ebd9-60b6ff732e02",
        "id": "jiT8GWfRZuOc"
      },
      "execution_count": 41,
      "outputs": [
        {
          "output_type": "stream",
          "name": "stdout",
          "text": [
            "Enter your question:What recreational activities are popular at Marina Beach in Chennai?\n",
            "Kite flying and beach volleyball.\n"
          ]
        }
      ]
    },
    {
      "cell_type": "code",
      "source": [
        "\n",
        "Q = input(\"Enter your question:\")\n",
        "answer_text = ask_LLM(Q)[0].text\n",
        "print(answer_text)\n"
      ],
      "metadata": {
        "colab": {
          "base_uri": "https://localhost:8080/",
          "height": 0
        },
        "id": "BdVmowo8Z0-1",
        "outputId": "f08c09ed-bf18-4817-b4d6-c8422e3bc143"
      },
      "execution_count": 45,
      "outputs": [
        {
          "output_type": "stream",
          "name": "stdout",
          "text": [
            "Enter your question:Can you name some of the bodies of water that border India's coastline?\n",
            "Arabian Sea, Bay of Bengal, and the Indian Ocean.\n"
          ]
        }
      ]
    },
    {
      "cell_type": "code",
      "source": [
        "\n",
        "Q = input(\"Enter your question:\")\n",
        "answer_text = ask_LLM(Q)[0].text\n",
        "print(answer_text)\n"
      ],
      "metadata": {
        "colab": {
          "base_uri": "https://localhost:8080/",
          "height": 0
        },
        "outputId": "efd761da-f916-49d5-91ca-0f5a878bac6b",
        "id": "jZVkNNBTZ8NM"
      },
      "execution_count": 44,
      "outputs": [
        {
          "output_type": "stream",
          "name": "stdout",
          "text": [
            "Enter your question:What is the tallest mountain in the world?\n",
            "The answer is not available.\n"
          ]
        }
      ]
    },
    {
      "cell_type": "code",
      "source": [],
      "metadata": {
        "id": "318JNBROZ9Bo"
      },
      "execution_count": null,
      "outputs": []
    }
  ]
}